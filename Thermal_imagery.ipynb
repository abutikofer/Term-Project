{
 "cells": [
  {
   "cell_type": "markdown",
   "id": "2bb1e7a0-1af9-4624-ac3b-e9f015676ab3",
   "metadata": {},
   "source": [
    "# Thermal Images"
   ]
  },
  {
   "cell_type": "raw",
   "id": "1bd016ea-f6b1-42ba-9a22-3a21ba53d791",
   "metadata": {},
   "source": [
    "pip install eemont\n",
    "pip install geetools\n",
    "pip install -U geemap\n",
    "pip install eefolium"
   ]
  },
  {
   "cell_type": "code",
   "execution_count": 1,
   "id": "4cb06e8c-2fcf-4c2b-b37b-dd79254626e2",
   "metadata": {},
   "outputs": [],
   "source": [
    "import ee, eemont, geemap\n",
    "import os\n",
    "import pandas as pd\n",
    "import numpy as np\n",
    "import seaborn as sns\n",
    "from matplotlib import pyplot as plt"
   ]
  },
  {
   "cell_type": "code",
   "execution_count": 2,
   "id": "ed3b7ba7-f132-490b-97dd-f50d60546517",
   "metadata": {},
   "outputs": [],
   "source": [
    "ee.Initialize()\n",
    "Map = geemap.Map()"
   ]
  },
  {
   "cell_type": "markdown",
   "id": "d008f09e-9056-4b7e-bab3-928fbf7695af",
   "metadata": {},
   "source": [
    "## Location"
   ]
  },
  {
   "cell_type": "code",
   "execution_count": 3,
   "id": "0eb14a71-79ba-4c69-8168-1b58404b48e8",
   "metadata": {},
   "outputs": [
    {
     "data": {
      "application/vnd.jupyter.widget-view+json": {
       "model_id": "bb18b1ab1c294f04bdd742999ea60459",
       "version_major": 2,
       "version_minor": 0
      },
      "text/plain": [
       "Map(center=[41.745000000000005, -111.79600000000002], controls=(WidgetControl(options=['position', 'transparen…"
      ]
     },
     "metadata": {},
     "output_type": "display_data"
    }
   ],
   "source": [
    "coop = ee.Geometry.Rectangle(-111.807, 41.748,-111.800, 41.743)\n",
    "golf = ee.Geometry.Rectangle(-111.793, 41.747, -111.786, 41.742)\n",
    "point = ee.Geometry.Point([-111.796, 41.745])\n",
    "\n",
    "Map.addLayer(coop,{},'COOP')\n",
    "Map.addLayer(golf,{},'GOLF')\n",
    "\n",
    "\n",
    "Map.centerObject(point, 16)\n",
    "Map"
   ]
  },
  {
   "cell_type": "markdown",
   "id": "b3dd352a-99ed-4d08-93fd-69fcf4b8c99b",
   "metadata": {},
   "source": [
    "## Thermal COOP"
   ]
  },
  {
   "cell_type": "code",
   "execution_count": 4,
   "id": "2789a7bd-8501-423b-9361-fe7564d80d65",
   "metadata": {},
   "outputs": [],
   "source": [
    "landsat8 = ee.ImageCollection(\"LANDSAT/LC08/C02/T1_L2\") \n",
    "\n",
    "coop1 = ee.Image(landsat8\n",
    "    .filterBounds(coop)\n",
    "    .filterDate('2022-07-01', '2022-08-01')\n",
    "    .sort('CLOUD_COVER_LAND')\n",
    "    .first())\n",
    "\n",
    "coop1 = coop1.select(['SR_B1', 'SR_B2', 'SR_B3', 'SR_B4', 'SR_B5', 'SR_B6', 'SR_B7','ST_B10'])\n",
    "\n",
    "\n",
    "coop1 = coop1.multiply(0.00341802).add(149)"
   ]
  },
  {
   "cell_type": "code",
   "execution_count": 5,
   "id": "66a361e6-1e52-4702-a0e5-e76b15e81b64",
   "metadata": {},
   "outputs": [],
   "source": [
    "thermal1 = coop1.select('ST_B10')\n",
    "\n",
    "# Set the visualization parameters\n",
    "vis_params = {\n",
    "    'min': 285,\n",
    "    'max': 335,\n",
    "    'palette': [ 'BFEFFF', '87CEFA', '33A1C9', 'FFB6C1', 'FF0000','8B0000'] \n",
    "}\n",
    "\n",
    "Map.addLayer(thermal1, vis_params, \"Thermal COOP 2022\")"
   ]
  },
  {
   "cell_type": "code",
   "execution_count": 6,
   "id": "c1821cd3-27cb-4e94-8863-d67405c1c10d",
   "metadata": {
    "tags": []
   },
   "outputs": [],
   "source": [
    "# landsat5 = ee.ImageCollection(\"LANDSAT/LT05/C02/T1_L2\")\n",
    "\n",
    "# coop2 = ee.Image(landsat5\n",
    "#      .filterBounds(coop)\n",
    "#      .filterDate('1985-07-01', '1985-08-01')\n",
    "#      .sort('CLOUD_COVER_LAND')\n",
    "#      .first())\n",
    "\n",
    "# coop2 = coop2.select(['SR_B1', 'SR_B2', 'SR_B3', 'SR_B4', 'SR_B5', 'ST_B6'])\n",
    "\n",
    "\n",
    "# coop2 = coop2.multiply(0.00341802).add(149)"
   ]
  },
  {
   "cell_type": "code",
   "execution_count": 7,
   "id": "c1826ef9-6a0e-470e-b1d0-6c2d3d3b3e70",
   "metadata": {},
   "outputs": [],
   "source": [
    "# thermal3 = coop2.select('ST_B6')\n",
    "\n",
    "# vis_params = {\n",
    "#   'min': 290,\n",
    "#   'max': 310,\n",
    "#   'palette': [  'BFEFFF', '87CEFA', '33A1C9', 'FFB6C1', 'FF0000','8B0000']  \n",
    "# }\n",
    "# Map.addLayer(thermal3, vis_params, \"Thermal COOP 1985\")"
   ]
  },
  {
   "cell_type": "markdown",
   "id": "1cce7d53-383f-4098-bb19-bfb962264b1b",
   "metadata": {},
   "source": [
    "### Clip and Mean of COOP"
   ]
  },
  {
   "cell_type": "code",
   "execution_count": 8,
   "id": "f8626d94-5413-4382-ab27-4a9761069716",
   "metadata": {},
   "outputs": [],
   "source": [
    "thermal1_coop = thermal1.clip(coop)\n",
    "#thermal3_coop = thermal3.clip(coop)"
   ]
  },
  {
   "cell_type": "code",
   "execution_count": 9,
   "id": "f61e5b79-a242-4153-87e8-2efcee37b19d",
   "metadata": {},
   "outputs": [],
   "source": [
    "thermal1_mean = thermal1.reduceRegion(reducer=ee.Reducer.mean(), geometry= coop, scale=30).get('ST_B10')"
   ]
  },
  {
   "cell_type": "code",
   "execution_count": 10,
   "id": "a3f7ccc8-70d8-4830-8095-7804b6fa12fe",
   "metadata": {},
   "outputs": [],
   "source": [
    "#thermal3_mean = thermal3.reduceRegion(reducer=ee.Reducer.mean(), geometry= coop, scale=30).get('ST_B6')"
   ]
  },
  {
   "cell_type": "code",
   "execution_count": 11,
   "id": "814cdf51-4848-43e5-9aff-63142439a0e2",
   "metadata": {},
   "outputs": [
    {
     "name": "stdout",
     "output_type": "stream",
     "text": [
      "Average Thermal: 317.224898605113\n"
     ]
    }
   ],
   "source": [
    "print('Average Thermal:', thermal1_mean.getInfo())"
   ]
  },
  {
   "cell_type": "code",
   "execution_count": 12,
   "id": "dedd4937-9163-45cb-8afc-2a609b981ff7",
   "metadata": {},
   "outputs": [],
   "source": [
    "#print('Average Thermal:', thermal3_mean.getInfo())"
   ]
  },
  {
   "cell_type": "markdown",
   "id": "251e1419-e264-4ac8-b735-aa5443b55914",
   "metadata": {},
   "source": [
    "## Thermal GOLF"
   ]
  },
  {
   "cell_type": "code",
   "execution_count": 13,
   "id": "3d4dee6c-1be9-4db7-9cc7-9b6d8d63f0b3",
   "metadata": {},
   "outputs": [],
   "source": [
    "landsat8 = ee.ImageCollection(\"LANDSAT/LC08/C02/T1_L2\") \n",
    "\n",
    "golf1 = ee.Image(landsat8\n",
    "    .filterBounds(golf)\n",
    "    .filterDate('2022-07-01', '2022-08-01')\n",
    "    .sort('CLOUD_COVER_LAND')\n",
    "    .first())\n",
    "\n",
    "golf1 = golf1.select(['SR_B1', 'SR_B2', 'SR_B3', 'SR_B4', 'SR_B5', 'SR_B6', 'SR_B7','ST_B10'])\n",
    "\n",
    "\n",
    "golf1 = golf1.multiply(0.00341802).add(149)"
   ]
  },
  {
   "cell_type": "code",
   "execution_count": 14,
   "id": "79ab6d15-745a-4e3e-a28a-350e2f384425",
   "metadata": {
    "tags": []
   },
   "outputs": [],
   "source": [
    "thermal2 = golf1.select('ST_B10')\n",
    "\n",
    "vis_params = {\n",
    "  'min': 285,\n",
    "  'max': 335,\n",
    "  'palette': [  'BFEFFF', '87CEFA', '33A1C9', 'FFB6C1', 'FF0000','8B0000']  \n",
    "}\n",
    "Map.addLayer(thermal2, vis_params, \"Thermal Golf 2022\")"
   ]
  },
  {
   "cell_type": "code",
   "execution_count": 15,
   "id": "dba5dbdf-59b6-45f2-a924-ddae269dd90c",
   "metadata": {},
   "outputs": [],
   "source": [
    "# landsat5 = ee.ImageCollection(\"LANDSAT/LT05/C02/T1_L2\")\n",
    "\n",
    "# golf2 = ee.Image(landsat5\n",
    "#      .filterBounds(golf)\n",
    "#      .filterDate('1985-07-01', '1985-08-01')\n",
    "#      .sort('CLOUD_COVER_LAND')\n",
    "#      .first())\n",
    "\n",
    "# golf2 = golf2.select(['SR_B1', 'SR_B2', 'SR_B3', 'SR_B4', 'SR_B5', 'ST_B6'])\n",
    "\n",
    "\n",
    "# golf2 = golf2.multiply(0.00341802).add(149)"
   ]
  },
  {
   "cell_type": "code",
   "execution_count": 16,
   "id": "442eec8d-6374-4aab-a7f5-e54a3927266d",
   "metadata": {},
   "outputs": [],
   "source": [
    "# thermal4 = golf2.select('ST_B6')\n",
    "\n",
    "# vis_params = {\n",
    "#   'min': 290,\n",
    "#   'max': 315,\n",
    "#   'palette': [  'BFEFFF', '87CEFA', '33A1C9', 'FFB6C1', 'FF0000','8B0000']  \n",
    "# }\n",
    "# Map.addLayer(thermal4, vis_params, \"Thermal Golf 1985\")"
   ]
  },
  {
   "cell_type": "markdown",
   "id": "0826f91d-d16a-4631-a61f-08242817ac24",
   "metadata": {},
   "source": [
    "### Clip and Mean of Golf"
   ]
  },
  {
   "cell_type": "code",
   "execution_count": 17,
   "id": "3090bb18-a112-462c-abb2-c817be46451a",
   "metadata": {},
   "outputs": [],
   "source": [
    "thermal2_golf = thermal2.clip(golf)\n",
    "#thermal4_golf = thermal4.clip(golf)"
   ]
  },
  {
   "cell_type": "code",
   "execution_count": 18,
   "id": "2b6e5f7b-0707-444d-baa8-b600de306164",
   "metadata": {},
   "outputs": [],
   "source": [
    "thermal2_mean = thermal2.reduceRegion(reducer=ee.Reducer.mean(), geometry= golf, scale=30).get('ST_B10')\n",
    "#thermal4_mean = thermal4.reduceRegion(reducer=ee.Reducer.mean(), geometry= golf, scale=30).get('ST_B6')"
   ]
  },
  {
   "cell_type": "code",
   "execution_count": 19,
   "id": "eb1755d1-4021-47aa-b25d-80ffdfa0b08e",
   "metadata": {},
   "outputs": [
    {
     "name": "stdout",
     "output_type": "stream",
     "text": [
      "Average Thermal: 312.2082364084116\n"
     ]
    }
   ],
   "source": [
    "print('Average Thermal:', thermal2_mean.getInfo())"
   ]
  },
  {
   "cell_type": "code",
   "execution_count": 20,
   "id": "754b0df6-b145-4474-8ee5-7bb58b9187fa",
   "metadata": {},
   "outputs": [],
   "source": [
    "#print('Average Thermal:', thermal4_mean.getInfo())"
   ]
  },
  {
   "cell_type": "markdown",
   "id": "3bb6662a-6c0c-454d-89d0-635912a71bee",
   "metadata": {},
   "source": [
    "### Legend"
   ]
  },
  {
   "cell_type": "code",
   "execution_count": 21,
   "id": "05db72f3-a8af-4baa-9acf-374c7060f256",
   "metadata": {},
   "outputs": [],
   "source": [
    "import eefolium"
   ]
  },
  {
   "cell_type": "code",
   "execution_count": 22,
   "id": "b1757ecb-1705-4195-9dbf-025397661f98",
   "metadata": {},
   "outputs": [],
   "source": [
    "\n",
    "labels = ['285', '295', '305', '315', '325', '335']\n",
    "\n",
    "therm_palette = ['BFEFFF', '87CEFA', '33A1C9', 'FFB6C1', 'FF0000','8B0000']\n",
    "\n",
    "map = eefolium.Map()\n",
    "\n",
    "Map.add_legend(colors=therm_palette, labels=labels, title='Thermal')\n"
   ]
  },
  {
   "cell_type": "markdown",
   "id": "2e8d5a97-5410-4474-935a-2a28b05db4ce",
   "metadata": {},
   "source": [
    "## Save images"
   ]
  },
  {
   "cell_type": "code",
   "execution_count": 23,
   "id": "415ecf74-3064-4f0d-ad5f-25a463a75ec5",
   "metadata": {},
   "outputs": [],
   "source": [
    "# import ee\n",
    "# import urllib\n",
    "\n",
    "# ee.Authenticate()\n",
    "# ee.Initialize()\n",
    "\n",
    "\n",
    "# url = thermal1.getThumbURL({\n",
    "#     'min': 285,\n",
    "#     'max': 335,\n",
    "#     'palette': therm_palette,\n",
    "#     'region': coop,\n",
    "#     'dimensions': '800x600'\n",
    "# })\n",
    "# # Download the image to your local computer\n",
    "# urllib.request.urlretrieve(url, 'Thermal_coop1_image.png')"
   ]
  },
  {
   "cell_type": "code",
   "execution_count": 24,
   "id": "1167de8d-2c6f-40a0-afa2-64d61af3f9f1",
   "metadata": {},
   "outputs": [],
   "source": [
    "# import ee\n",
    "# import urllib\n",
    "\n",
    "# ee.Authenticate()\n",
    "# ee.Initialize()\n",
    "\n",
    "\n",
    "# url = thermal2.getThumbURL({\n",
    "#     'min': 285,\n",
    "#     'max': 335,\n",
    "#     'palette': therm_palette,\n",
    "#     'region': golf,\n",
    "#     'dimensions': '800x600'\n",
    "# })\n",
    "# # Download the image to your local computer\n",
    "# urllib.request.urlretrieve(url, 'Thermal_golf1_image.png')"
   ]
  },
  {
   "cell_type": "markdown",
   "id": "5e2e0392-12b0-4fdd-922b-f79580c6d82c",
   "metadata": {},
   "source": [
    "## Thermal Timeseries"
   ]
  },
  {
   "cell_type": "code",
   "execution_count": 25,
   "id": "5eb1d56f-f071-4831-9e62-ea873bf490f7",
   "metadata": {},
   "outputs": [],
   "source": [
    "stations = ee.FeatureCollection([\n",
    "    ee.Feature(coop,{'station':0}),\n",
    "    ee.Feature(golf,{'station':1})    \n",
    "])"
   ]
  },
  {
   "cell_type": "code",
   "execution_count": 26,
   "id": "ede6cb55-c3a8-420d-b4ce-48037f2d10a4",
   "metadata": {},
   "outputs": [],
   "source": [
    "def maskSnow(image):\n",
    "# // to Landsat 8 imagery.\n",
    "    N = image.select('B5')\n",
    "    G = image.select('B3')\n",
    "    NDSI =image.normalizedDifference(['B3', 'B6'])\n",
    "    snowPixels = (NDSI > 0.4) & (N >= 0.1) & (G > 0.11)\n",
    "    return image.updateMask(~snowPixels)"
   ]
  },
  {
   "cell_type": "code",
   "execution_count": 27,
   "id": "a660c41d-5226-4ed4-b5b9-45278b804f5c",
   "metadata": {},
   "outputs": [],
   "source": [
    "L8 = (ee.ImageCollection('LANDSAT/LC08/C01/T1_SR')\n",
    "      .filterBounds(stations)\n",
    "      .maskClouds()\n",
    "      .scaleAndOffset()\n",
    "      .select(['B2', 'B3', 'B4', 'B5', 'B6', 'B7', 'B10'])).map(maskSnow)"
   ]
  },
  {
   "cell_type": "code",
   "execution_count": 28,
   "id": "ec1400bc-f410-4f9a-a10a-37537268d549",
   "metadata": {},
   "outputs": [],
   "source": [
    "def maskSnow(image):\n",
    "# // to Landsat 5 imagery.\n",
    "    N = image.select('SR_B4')\n",
    "    G = image.select('SR_B2')\n",
    "    NDSI =image.normalizedDifference(['SR_B2', 'SR_B5'])\n",
    "    snowPixels = (NDSI > 0.4) & (N >= 0.1) & (G > 0.11)\n",
    "    return image.updateMask(~snowPixels)"
   ]
  },
  {
   "cell_type": "code",
   "execution_count": 29,
   "id": "6843bdaa-2a34-436d-a3b6-2ed7cc3cf20b",
   "metadata": {},
   "outputs": [],
   "source": [
    "L5 = (ee.ImageCollection(\"LANDSAT/LT05/C02/T1_L2\")\n",
    "      .filterBounds(stations)\n",
    "      .maskClouds()\n",
    "      .scaleAndOffset()\n",
    "      .select(['SR_B1', 'SR_B2', 'SR_B3', 'SR_B4', 'SR_B5', 'ST_B6'])).map(maskSnow)\n"
   ]
  },
  {
   "cell_type": "code",
   "execution_count": 30,
   "id": "2879d2df-633b-4bc6-bb0b-c34474c03059",
   "metadata": {
    "tags": []
   },
   "outputs": [],
   "source": [
    "def renameL5(image):\n",
    "    temp=image.select('ST_B6').multiply(1).rename('kelvin')\n",
    "    return image.addBands(temp)"
   ]
  },
  {
   "cell_type": "code",
   "execution_count": 31,
   "id": "35f1172a-379c-4691-890d-b56d808809a0",
   "metadata": {},
   "outputs": [],
   "source": [
    "def renameL8(image):\n",
    "    temp=image.select('B10').multiply(1).rename('kelvin')\n",
    "    return image.addBands(temp)"
   ]
  },
  {
   "cell_type": "code",
   "execution_count": 32,
   "id": "4dac4bcf-03cc-4be0-91d1-ff68a7ad88c3",
   "metadata": {},
   "outputs": [],
   "source": [
    "L5_renamed=L5.map(renameL5)\n",
    "L8_renamed=L8.map(renameL8)"
   ]
  },
  {
   "cell_type": "code",
   "execution_count": 33,
   "id": "73bd114b-2237-44bf-ba75-30d231f25815",
   "metadata": {},
   "outputs": [
    {
     "name": "stdout",
     "output_type": "stream",
     "text": [
      "['SR_B1', 'SR_B2', 'SR_B3', 'SR_B4', 'SR_B5', 'ST_B6', 'kelvin']\n",
      "['B2', 'B3', 'B4', 'B5', 'B6', 'B7', 'B10', 'kelvin']\n"
     ]
    }
   ],
   "source": [
    "print(L5_renamed.first().bandNames().getInfo())\n",
    "print(L8_renamed.first().bandNames().getInfo())"
   ]
  },
  {
   "cell_type": "code",
   "execution_count": 34,
   "id": "27f3083d-684a-4e43-b495-c43fb74f1b09",
   "metadata": {},
   "outputs": [
    {
     "name": "stdout",
     "output_type": "stream",
     "text": [
      "['SR_B1', 'SR_B2', 'SR_B3', 'SR_B4', 'SR_B5', 'ST_B6', 'kelvin']\n"
     ]
    }
   ],
   "source": [
    "merged = L5_renamed.merge(L8_renamed)\n",
    "print(merged.first().bandNames().getInfo())\n"
   ]
  },
  {
   "cell_type": "code",
   "execution_count": 35,
   "id": "b2684617-ffd8-4fe7-9784-398a82a74caa",
   "metadata": {},
   "outputs": [
    {
     "data": {
      "application/vnd.jupyter.widget-view+json": {
       "model_id": "bb18b1ab1c294f04bdd742999ea60459",
       "version_major": 2,
       "version_minor": 0
      },
      "text/plain": [
       "Map(bottom=6244248.0, center=[41.745000000000005, -111.79600000000002], controls=(WidgetControl(options=['posi…"
      ]
     },
     "metadata": {},
     "output_type": "display_data"
    }
   ],
   "source": [
    "collection = merged.select('kelvin').filter(ee.Filter.date('1985-07-01', '2022-07-01')).sort('system:time_start')\n",
    "\n",
    "vis_params = {\n",
    "  'min': 273,\n",
    "  'max': 323,\n",
    "  'palette': [  'BFEFFF', '87CEFA', '33A1C9', 'FFB6C1', 'FF0000','8B0000'],\n",
    "}\n",
    "\n",
    "first_image = collection.first()\n",
    "\n",
    "Map.addLayer(first_image, vis_params, \"First image\")\n",
    "\n",
    "Map\n"
   ]
  },
  {
   "cell_type": "code",
   "execution_count": 36,
   "id": "9437b6e7-c052-44e2-8804-175f44f09b9f",
   "metadata": {},
   "outputs": [
    {
     "data": {
      "application/vnd.jupyter.widget-view+json": {
       "model_id": "bb18b1ab1c294f04bdd742999ea60459",
       "version_major": 2,
       "version_minor": 0
      },
      "text/plain": [
       "Map(bottom=6244248.0, center=[41.745000000000005, -111.79600000000002], controls=(WidgetControl(options=['posi…"
      ]
     },
     "metadata": {},
     "output_type": "display_data"
    }
   ],
   "source": [
    "labels = collection.aggregate_array(\"system:index\").getInfo()\n",
    "Map.add_time_slider(collection, vis_params, labels=labels, time_interval=1)\n",
    "Map"
   ]
  },
  {
   "cell_type": "code",
   "execution_count": 37,
   "id": "5d33110f-d3de-4d69-8d89-2b6e267ed10b",
   "metadata": {},
   "outputs": [],
   "source": [
    "ts = merged.getTimeSeriesByRegions(collection = stations,\n",
    "                               bands = ['kelvin'],\n",
    "                               reducer = [ee.Reducer.mean()], #ee.Reducer.median()\n",
    "                               scale = 30)"
   ]
  },
  {
   "cell_type": "code",
   "execution_count": 38,
   "id": "ba5fea50-ccf6-4e67-90fa-81d79881456f",
   "metadata": {},
   "outputs": [],
   "source": [
    "tsPandas = geemap.ee_to_pandas(ts)"
   ]
  },
  {
   "cell_type": "code",
   "execution_count": 39,
   "id": "08c6cb0a-fa2e-47ec-a32f-4e7eee6cb10a",
   "metadata": {},
   "outputs": [],
   "source": [
    "tsPandas[tsPandas == -9999] = np.nan"
   ]
  },
  {
   "cell_type": "code",
   "execution_count": 40,
   "id": "30465b6d-799c-401e-8be4-1be6441f12fc",
   "metadata": {},
   "outputs": [],
   "source": [
    "tsPandas['date'] = pd.to_datetime(tsPandas['date'],infer_datetime_format = True)"
   ]
  },
  {
   "cell_type": "code",
   "execution_count": 41,
   "id": "fd1896d6-9126-408d-9d1e-56d0d970f789",
   "metadata": {},
   "outputs": [
    {
     "data": {
      "text/html": [
       "<div>\n",
       "<style scoped>\n",
       "    .dataframe tbody tr th:only-of-type {\n",
       "        vertical-align: middle;\n",
       "    }\n",
       "\n",
       "    .dataframe tbody tr th {\n",
       "        vertical-align: top;\n",
       "    }\n",
       "\n",
       "    .dataframe thead th {\n",
       "        text-align: right;\n",
       "    }\n",
       "</style>\n",
       "<table border=\"1\" class=\"dataframe\">\n",
       "  <thead>\n",
       "    <tr style=\"text-align: right;\">\n",
       "      <th></th>\n",
       "      <th>date</th>\n",
       "      <th>kelvin</th>\n",
       "      <th>station</th>\n",
       "      <th>reducer</th>\n",
       "    </tr>\n",
       "  </thead>\n",
       "  <tbody>\n",
       "    <tr>\n",
       "      <th>0</th>\n",
       "      <td>1984-04-06 17:34:57</td>\n",
       "      <td>271.761768</td>\n",
       "      <td>0</td>\n",
       "      <td>mean</td>\n",
       "    </tr>\n",
       "    <tr>\n",
       "      <th>1</th>\n",
       "      <td>1984-04-06 17:34:57</td>\n",
       "      <td>259.626905</td>\n",
       "      <td>1</td>\n",
       "      <td>mean</td>\n",
       "    </tr>\n",
       "    <tr>\n",
       "      <th>2</th>\n",
       "      <td>1984-05-08 17:35:11</td>\n",
       "      <td>300.079276</td>\n",
       "      <td>0</td>\n",
       "      <td>mean</td>\n",
       "    </tr>\n",
       "    <tr>\n",
       "      <th>3</th>\n",
       "      <td>1984-05-08 17:35:11</td>\n",
       "      <td>296.849438</td>\n",
       "      <td>1</td>\n",
       "      <td>mean</td>\n",
       "    </tr>\n",
       "    <tr>\n",
       "      <th>4</th>\n",
       "      <td>1984-06-09 17:36:00</td>\n",
       "      <td>280.922979</td>\n",
       "      <td>0</td>\n",
       "      <td>mean</td>\n",
       "    </tr>\n",
       "    <tr>\n",
       "      <th>...</th>\n",
       "      <td>...</td>\n",
       "      <td>...</td>\n",
       "      <td>...</td>\n",
       "      <td>...</td>\n",
       "    </tr>\n",
       "    <tr>\n",
       "      <th>1331</th>\n",
       "      <td>2021-11-22 18:08:08</td>\n",
       "      <td>279.077354</td>\n",
       "      <td>1</td>\n",
       "      <td>mean</td>\n",
       "    </tr>\n",
       "    <tr>\n",
       "      <th>1332</th>\n",
       "      <td>2021-12-08 18:08:09</td>\n",
       "      <td>NaN</td>\n",
       "      <td>0</td>\n",
       "      <td>mean</td>\n",
       "    </tr>\n",
       "    <tr>\n",
       "      <th>1333</th>\n",
       "      <td>2021-12-08 18:08:09</td>\n",
       "      <td>NaN</td>\n",
       "      <td>1</td>\n",
       "      <td>mean</td>\n",
       "    </tr>\n",
       "    <tr>\n",
       "      <th>1334</th>\n",
       "      <td>2021-12-24 18:08:05</td>\n",
       "      <td>NaN</td>\n",
       "      <td>0</td>\n",
       "      <td>mean</td>\n",
       "    </tr>\n",
       "    <tr>\n",
       "      <th>1335</th>\n",
       "      <td>2021-12-24 18:08:05</td>\n",
       "      <td>NaN</td>\n",
       "      <td>1</td>\n",
       "      <td>mean</td>\n",
       "    </tr>\n",
       "  </tbody>\n",
       "</table>\n",
       "<p>1336 rows × 4 columns</p>\n",
       "</div>"
      ],
      "text/plain": [
       "                    date      kelvin  station reducer\n",
       "0    1984-04-06 17:34:57  271.761768        0    mean\n",
       "1    1984-04-06 17:34:57  259.626905        1    mean\n",
       "2    1984-05-08 17:35:11  300.079276        0    mean\n",
       "3    1984-05-08 17:35:11  296.849438        1    mean\n",
       "4    1984-06-09 17:36:00  280.922979        0    mean\n",
       "...                  ...         ...      ...     ...\n",
       "1331 2021-11-22 18:08:08  279.077354        1    mean\n",
       "1332 2021-12-08 18:08:09         NaN        0    mean\n",
       "1333 2021-12-08 18:08:09         NaN        1    mean\n",
       "1334 2021-12-24 18:08:05         NaN        0    mean\n",
       "1335 2021-12-24 18:08:05         NaN        1    mean\n",
       "\n",
       "[1336 rows x 4 columns]"
      ]
     },
     "execution_count": 41,
     "metadata": {},
     "output_type": "execute_result"
    }
   ],
   "source": [
    "tsPandas"
   ]
  },
  {
   "cell_type": "markdown",
   "id": "364054df-e282-41ed-8604-6dd09f514d19",
   "metadata": {},
   "source": [
    "#### Re-arrange Data"
   ]
  },
  {
   "cell_type": "code",
   "execution_count": 42,
   "id": "c8a28a24-4b84-4935-90cd-d58c2113ade9",
   "metadata": {},
   "outputs": [],
   "source": [
    "tsPandas_pivoted = tsPandas.pivot_table(index='date', columns= 'station', values='kelvin').reset_index()"
   ]
  },
  {
   "cell_type": "code",
   "execution_count": 43,
   "id": "4da6947e-0952-41bc-ac1a-5d15321ef7f9",
   "metadata": {},
   "outputs": [],
   "source": [
    "tsPandas_pivoted.columns.name = None"
   ]
  },
  {
   "cell_type": "code",
   "execution_count": 44,
   "id": "4161d1e8-b793-4bad-a778-b18e7d96f5e1",
   "metadata": {},
   "outputs": [
    {
     "data": {
      "text/html": [
       "<div>\n",
       "<style scoped>\n",
       "    .dataframe tbody tr th:only-of-type {\n",
       "        vertical-align: middle;\n",
       "    }\n",
       "\n",
       "    .dataframe tbody tr th {\n",
       "        vertical-align: top;\n",
       "    }\n",
       "\n",
       "    .dataframe thead th {\n",
       "        text-align: right;\n",
       "    }\n",
       "</style>\n",
       "<table border=\"1\" class=\"dataframe\">\n",
       "  <thead>\n",
       "    <tr style=\"text-align: right;\">\n",
       "      <th></th>\n",
       "      <th>date</th>\n",
       "      <th>0</th>\n",
       "      <th>1</th>\n",
       "    </tr>\n",
       "  </thead>\n",
       "  <tbody>\n",
       "    <tr>\n",
       "      <th>0</th>\n",
       "      <td>1984-04-06 17:34:57</td>\n",
       "      <td>271.761768</td>\n",
       "      <td>259.626905</td>\n",
       "    </tr>\n",
       "    <tr>\n",
       "      <th>1</th>\n",
       "      <td>1984-05-08 17:35:11</td>\n",
       "      <td>300.079276</td>\n",
       "      <td>296.849438</td>\n",
       "    </tr>\n",
       "    <tr>\n",
       "      <th>2</th>\n",
       "      <td>1984-06-09 17:36:00</td>\n",
       "      <td>280.922979</td>\n",
       "      <td>266.563516</td>\n",
       "    </tr>\n",
       "    <tr>\n",
       "      <th>3</th>\n",
       "      <td>1984-06-25 17:36:14</td>\n",
       "      <td>311.937869</td>\n",
       "      <td>305.919646</td>\n",
       "    </tr>\n",
       "    <tr>\n",
       "      <th>4</th>\n",
       "      <td>1984-12-02 17:37:44</td>\n",
       "      <td>268.988358</td>\n",
       "      <td>266.972009</td>\n",
       "    </tr>\n",
       "    <tr>\n",
       "      <th>...</th>\n",
       "      <td>...</td>\n",
       "      <td>...</td>\n",
       "      <td>...</td>\n",
       "    </tr>\n",
       "    <tr>\n",
       "      <th>454</th>\n",
       "      <td>2021-07-17 18:07:43</td>\n",
       "      <td>310.382498</td>\n",
       "      <td>307.102330</td>\n",
       "    </tr>\n",
       "    <tr>\n",
       "      <th>455</th>\n",
       "      <td>2021-09-03 18:08:02</td>\n",
       "      <td>299.926420</td>\n",
       "      <td>297.788521</td>\n",
       "    </tr>\n",
       "    <tr>\n",
       "      <th>456</th>\n",
       "      <td>2021-10-05 18:08:11</td>\n",
       "      <td>293.041188</td>\n",
       "      <td>292.895751</td>\n",
       "    </tr>\n",
       "    <tr>\n",
       "      <th>457</th>\n",
       "      <td>2021-10-21 18:08:14</td>\n",
       "      <td>289.364493</td>\n",
       "      <td>288.541948</td>\n",
       "    </tr>\n",
       "    <tr>\n",
       "      <th>458</th>\n",
       "      <td>2021-11-22 18:08:08</td>\n",
       "      <td>279.407151</td>\n",
       "      <td>279.077354</td>\n",
       "    </tr>\n",
       "  </tbody>\n",
       "</table>\n",
       "<p>459 rows × 3 columns</p>\n",
       "</div>"
      ],
      "text/plain": [
       "                   date           0           1\n",
       "0   1984-04-06 17:34:57  271.761768  259.626905\n",
       "1   1984-05-08 17:35:11  300.079276  296.849438\n",
       "2   1984-06-09 17:36:00  280.922979  266.563516\n",
       "3   1984-06-25 17:36:14  311.937869  305.919646\n",
       "4   1984-12-02 17:37:44  268.988358  266.972009\n",
       "..                  ...         ...         ...\n",
       "454 2021-07-17 18:07:43  310.382498  307.102330\n",
       "455 2021-09-03 18:08:02  299.926420  297.788521\n",
       "456 2021-10-05 18:08:11  293.041188  292.895751\n",
       "457 2021-10-21 18:08:14  289.364493  288.541948\n",
       "458 2021-11-22 18:08:08  279.407151  279.077354\n",
       "\n",
       "[459 rows x 3 columns]"
      ]
     },
     "execution_count": 44,
     "metadata": {},
     "output_type": "execute_result"
    }
   ],
   "source": [
    "tsPandas_pivoted"
   ]
  },
  {
   "cell_type": "code",
   "execution_count": 45,
   "id": "e01d0469-7f9c-4fab-a4a2-78a0b10c87a5",
   "metadata": {},
   "outputs": [],
   "source": [
    "tsPandas_pivoted.columns = ['date', 'station_0', 'station_1']"
   ]
  },
  {
   "cell_type": "code",
   "execution_count": 46,
   "id": "e245abce-9d5d-40ef-93a8-df30d99a4815",
   "metadata": {},
   "outputs": [],
   "source": [
    "tsPandas_pivoted['Difference'] = tsPandas_pivoted['station_1'] - tsPandas_pivoted['station_0']"
   ]
  },
  {
   "cell_type": "code",
   "execution_count": 47,
   "id": "44400636-40b1-4899-bc9f-a5d8055e447d",
   "metadata": {},
   "outputs": [
    {
     "data": {
      "text/html": [
       "<div>\n",
       "<style scoped>\n",
       "    .dataframe tbody tr th:only-of-type {\n",
       "        vertical-align: middle;\n",
       "    }\n",
       "\n",
       "    .dataframe tbody tr th {\n",
       "        vertical-align: top;\n",
       "    }\n",
       "\n",
       "    .dataframe thead th {\n",
       "        text-align: right;\n",
       "    }\n",
       "</style>\n",
       "<table border=\"1\" class=\"dataframe\">\n",
       "  <thead>\n",
       "    <tr style=\"text-align: right;\">\n",
       "      <th></th>\n",
       "      <th>date</th>\n",
       "      <th>station_0</th>\n",
       "      <th>station_1</th>\n",
       "      <th>Difference</th>\n",
       "    </tr>\n",
       "  </thead>\n",
       "  <tbody>\n",
       "    <tr>\n",
       "      <th>0</th>\n",
       "      <td>1984-04-06 17:34:57</td>\n",
       "      <td>271.761768</td>\n",
       "      <td>259.626905</td>\n",
       "      <td>-12.134863</td>\n",
       "    </tr>\n",
       "    <tr>\n",
       "      <th>1</th>\n",
       "      <td>1984-05-08 17:35:11</td>\n",
       "      <td>300.079276</td>\n",
       "      <td>296.849438</td>\n",
       "      <td>-3.229838</td>\n",
       "    </tr>\n",
       "    <tr>\n",
       "      <th>2</th>\n",
       "      <td>1984-06-09 17:36:00</td>\n",
       "      <td>280.922979</td>\n",
       "      <td>266.563516</td>\n",
       "      <td>-14.359463</td>\n",
       "    </tr>\n",
       "    <tr>\n",
       "      <th>3</th>\n",
       "      <td>1984-06-25 17:36:14</td>\n",
       "      <td>311.937869</td>\n",
       "      <td>305.919646</td>\n",
       "      <td>-6.018224</td>\n",
       "    </tr>\n",
       "    <tr>\n",
       "      <th>4</th>\n",
       "      <td>1984-12-02 17:37:44</td>\n",
       "      <td>268.988358</td>\n",
       "      <td>266.972009</td>\n",
       "      <td>-2.016349</td>\n",
       "    </tr>\n",
       "    <tr>\n",
       "      <th>...</th>\n",
       "      <td>...</td>\n",
       "      <td>...</td>\n",
       "      <td>...</td>\n",
       "      <td>...</td>\n",
       "    </tr>\n",
       "    <tr>\n",
       "      <th>454</th>\n",
       "      <td>2021-07-17 18:07:43</td>\n",
       "      <td>310.382498</td>\n",
       "      <td>307.102330</td>\n",
       "      <td>-3.280168</td>\n",
       "    </tr>\n",
       "    <tr>\n",
       "      <th>455</th>\n",
       "      <td>2021-09-03 18:08:02</td>\n",
       "      <td>299.926420</td>\n",
       "      <td>297.788521</td>\n",
       "      <td>-2.137899</td>\n",
       "    </tr>\n",
       "    <tr>\n",
       "      <th>456</th>\n",
       "      <td>2021-10-05 18:08:11</td>\n",
       "      <td>293.041188</td>\n",
       "      <td>292.895751</td>\n",
       "      <td>-0.145437</td>\n",
       "    </tr>\n",
       "    <tr>\n",
       "      <th>457</th>\n",
       "      <td>2021-10-21 18:08:14</td>\n",
       "      <td>289.364493</td>\n",
       "      <td>288.541948</td>\n",
       "      <td>-0.822545</td>\n",
       "    </tr>\n",
       "    <tr>\n",
       "      <th>458</th>\n",
       "      <td>2021-11-22 18:08:08</td>\n",
       "      <td>279.407151</td>\n",
       "      <td>279.077354</td>\n",
       "      <td>-0.329797</td>\n",
       "    </tr>\n",
       "  </tbody>\n",
       "</table>\n",
       "<p>459 rows × 4 columns</p>\n",
       "</div>"
      ],
      "text/plain": [
       "                   date   station_0   station_1  Difference\n",
       "0   1984-04-06 17:34:57  271.761768  259.626905  -12.134863\n",
       "1   1984-05-08 17:35:11  300.079276  296.849438   -3.229838\n",
       "2   1984-06-09 17:36:00  280.922979  266.563516  -14.359463\n",
       "3   1984-06-25 17:36:14  311.937869  305.919646   -6.018224\n",
       "4   1984-12-02 17:37:44  268.988358  266.972009   -2.016349\n",
       "..                  ...         ...         ...         ...\n",
       "454 2021-07-17 18:07:43  310.382498  307.102330   -3.280168\n",
       "455 2021-09-03 18:08:02  299.926420  297.788521   -2.137899\n",
       "456 2021-10-05 18:08:11  293.041188  292.895751   -0.145437\n",
       "457 2021-10-21 18:08:14  289.364493  288.541948   -0.822545\n",
       "458 2021-11-22 18:08:08  279.407151  279.077354   -0.329797\n",
       "\n",
       "[459 rows x 4 columns]"
      ]
     },
     "execution_count": 47,
     "metadata": {},
     "output_type": "execute_result"
    }
   ],
   "source": [
    "tsPandas_pivoted"
   ]
  },
  {
   "cell_type": "code",
   "execution_count": 48,
   "id": "09118a55-2314-4dd6-b7c9-96873b9bcd2c",
   "metadata": {},
   "outputs": [
    {
     "data": {
      "image/png": "[encoded data removed]",
      "text/plain": [
       "<Figure size 432x288 with 1 Axes>"
      ]
     },
     "metadata": {
      "needs_background": "light"
     },
     "output_type": "display_data"
    }
   ],
   "source": [
    "fig, ax = plt.subplots()\n",
    "sns.lineplot(data=tsPandas_pivoted, x='date', y='Difference', ax=ax)\n",
    "\n",
    "ax.set_xlabel('Date', fontsize = 15)\n",
    "ax.set_ylabel('Difference (K)', fontsize = 15)\n",
    "ax.set_title('Surface Temperature Difference (Golf-USU)', fontsize = 18)\n",
    "\n",
    "ax.axhline(y=0, color='black', linestyle='--')\n",
    "\n",
    "plt.savefig('Thermal_fullseries.png', dpi=300, bbox_inches='tight')\n",
    "plt.show()"
   ]
  },
  {
   "cell_type": "markdown",
   "id": "b998427b-9275-4dce-93cb-36eb6c4ebc26",
   "metadata": {},
   "source": [
    "### Just Summer Months"
   ]
  },
  {
   "cell_type": "code",
   "execution_count": 49,
   "id": "8c6a6cde-888f-4a90-bb94-05165e9d664e",
   "metadata": {},
   "outputs": [
    {
     "name": "stdout",
     "output_type": "stream",
     "text": [
      "                      station_0   station_1  Difference\n",
      "date                                                   \n",
      "1984-04-06 17:34:57  271.761768  259.626905  -12.134863\n",
      "1984-05-08 17:35:11  300.079276  296.849438   -3.229838\n",
      "1984-06-09 17:36:00  280.922979  266.563516  -14.359463\n",
      "1984-06-25 17:36:14  311.937869  305.919646   -6.018224\n",
      "1984-12-02 17:37:44  268.988358  266.972009   -2.016349\n",
      "...                         ...         ...         ...\n",
      "2021-07-17 18:07:43  310.382498  307.102330   -3.280168\n",
      "2021-09-03 18:08:02  299.926420  297.788521   -2.137899\n",
      "2021-10-05 18:08:11  293.041188  292.895751   -0.145437\n",
      "2021-10-21 18:08:14  289.364493  288.541948   -0.822545\n",
      "2021-11-22 18:08:08  279.407151  279.077354   -0.329797\n",
      "\n",
      "[459 rows x 3 columns]\n"
     ]
    }
   ],
   "source": [
    "tsPandas_pivoted = tsPandas_pivoted.set_index('date')\n",
    "\n",
    "print(tsPandas_pivoted)"
   ]
  },
  {
   "cell_type": "code",
   "execution_count": 50,
   "id": "01907bee-b055-4125-84a2-384f126fdf76",
   "metadata": {},
   "outputs": [],
   "source": [
    "tsPandas_pivoted.index = pd.to_datetime(tsPandas_pivoted.index, format='%Y-%m-%d')\n",
    "\n",
    "# Filter data for June-October 1985-2022\n",
    "filtered_data = tsPandas_pivoted.loc[\n",
    "    (tsPandas_pivoted.index.month >= 5) & (tsPandas_pivoted.index.month <= 10) &\n",
    "    (tsPandas_pivoted.index.year >= 1985) & (tsPandas_pivoted.index.year <= 2022)\n",
    "]"
   ]
  },
  {
   "cell_type": "code",
   "execution_count": 51,
   "id": "fecd7766-afe3-4a19-8393-f2973b725df2",
   "metadata": {},
   "outputs": [
    {
     "name": "stdout",
     "output_type": "stream",
     "text": [
      "                      station_0   station_1  Difference\n",
      "date                                                   \n",
      "1985-06-12 17:37:54  308.445845  304.030315   -4.415530\n",
      "1985-07-14 17:37:44  303.431483  299.238118   -4.193365\n",
      "1985-08-15 17:37:27  307.156234  303.527529   -3.628705\n",
      "1985-08-31 17:37:16  308.211209  304.993774   -3.217435\n",
      "1985-09-16 17:37:03  298.840532  295.672894   -3.167639\n",
      "...                         ...         ...         ...\n",
      "2021-06-15 18:07:38  313.892354  309.919310   -3.973044\n",
      "2021-07-17 18:07:43  310.382498  307.102330   -3.280168\n",
      "2021-09-03 18:08:02  299.926420  297.788521   -2.137899\n",
      "2021-10-05 18:08:11  293.041188  292.895751   -0.145437\n",
      "2021-10-21 18:08:14  289.364493  288.541948   -0.822545\n",
      "\n",
      "[305 rows x 3 columns]\n"
     ]
    }
   ],
   "source": [
    "print(filtered_data)"
   ]
  },
  {
   "cell_type": "code",
   "execution_count": 52,
   "id": "34b0bc74-e3cc-4055-8354-69452797664c",
   "metadata": {},
   "outputs": [
    {
     "name": "stdout",
     "output_type": "stream",
     "text": [
      "303.513573122247\n"
     ]
    }
   ],
   "source": [
    "mean_0 = filtered_data['station_0'].mean()\n",
    "print(mean_0)"
   ]
  },
  {
   "cell_type": "code",
   "execution_count": 53,
   "id": "277adb4c-8ae3-4f2c-9de0-a54cc3accc60",
   "metadata": {},
   "outputs": [
    {
     "name": "stdout",
     "output_type": "stream",
     "text": [
      "300.07398594577893\n"
     ]
    }
   ],
   "source": [
    "mean_1 = filtered_data['station_1'].mean()\n",
    "print(mean_1)"
   ]
  },
  {
   "cell_type": "code",
   "execution_count": 54,
   "id": "15012425-067c-40e0-b9e4-99a9bbbda19d",
   "metadata": {},
   "outputs": [
    {
     "data": {
      "text/plain": [
       "<matplotlib.lines.Line2D at 0x7ff12767f610>"
      ]
     },
     "execution_count": 54,
     "metadata": {},
     "output_type": "execute_result"
    },
    {
     "data": {
      "image/png": "[encoded data removed]",
      "text/plain": [
       "<Figure size 432x288 with 1 Axes>"
      ]
     },
     "metadata": {
      "needs_background": "light"
     },
     "output_type": "display_data"
    }
   ],
   "source": [
    "sns.scatterplot(data=filtered_data, x=filtered_data.index, y='Difference')\n",
    "plt.xlabel('Date', fontsize = 15)\n",
    "plt.ylabel('Temperature Difference K', fontsize = 15)\n",
    "plt.title('Temperature Difference (Golf-USU)', fontsize = 18)\n",
    "\n",
    "plt.axhline(y=0, color='black', linestyle='--')\n",
    "\n",
    "\n",
    "#plt.savefig('summerthermal_plot.png', dpi=300, bbox_inches='tight')"
   ]
  },
  {
   "cell_type": "code",
   "execution_count": 55,
   "id": "31ea9e3a-1734-483c-a53a-f374b75d9cbd",
   "metadata": {},
   "outputs": [
    {
     "data": {
      "text/plain": [
       "<AxesSubplot:title={'center':'Summer Temperatures'}, xlabel='Date', ylabel='Temperature  K'>"
      ]
     },
     "execution_count": 55,
     "metadata": {},
     "output_type": "execute_result"
    },
    {
     "data": {
      "image/png": "[encoded data removed]",
      "text/plain": [
       "<Figure size 432x288 with 1 Axes>"
      ]
     },
     "metadata": {
      "needs_background": "light"
     },
     "output_type": "display_data"
    }
   ],
   "source": [
    "sns.scatterplot(data=filtered_data, x=filtered_data.index, y='station_0')\n",
    "plt.xlabel('Date', fontsize = 15)\n",
    "plt.ylabel('Temperature  K', fontsize = 15)\n",
    "plt.title('Summer Temperatures', fontsize = 18)\n",
    "\n",
    "sns.scatterplot(data=filtered_data, x=filtered_data.index, y='station_1')\n",
    "\n",
    "\n",
    "#plt.savefig('summerthermal_plot.png', dpi=300, bbox_inches='tight')"
   ]
  },
  {
   "cell_type": "code",
   "execution_count": 56,
   "id": "22b348e6-3779-404f-b7a2-5669472933d4",
   "metadata": {},
   "outputs": [],
   "source": [
    "#filtered_data.to_csv('summer_thermal.csv', index=True)"
   ]
  },
  {
   "cell_type": "markdown",
   "id": "5bae40aa-e0d9-4226-8e30-df4a278fe00e",
   "metadata": {},
   "source": [
    "### 1990 to 1995"
   ]
  },
  {
   "cell_type": "code",
   "execution_count": 57,
   "id": "db381601-fba5-419a-ab3d-3417cc3a0d54",
   "metadata": {},
   "outputs": [],
   "source": [
    "annual_data = filtered_data.loc['1990-05-01':'1996-05-01']"
   ]
  },
  {
   "cell_type": "code",
   "execution_count": 58,
   "id": "aeffec68-5b0a-4f79-a53c-88629933455c",
   "metadata": {},
   "outputs": [
    {
     "data": {
      "text/plain": [
       "<matplotlib.legend.Legend at 0x7ff128de2880>"
      ]
     },
     "execution_count": 58,
     "metadata": {},
     "output_type": "execute_result"
    },
    {
     "data": {
      "image/png": "[encoded data removed]",
      "text/plain": [
       "<Figure size 432x288 with 1 Axes>"
      ]
     },
     "metadata": {
      "needs_background": "light"
     },
     "output_type": "display_data"
    }
   ],
   "source": [
    "import matplotlib.dates as mdates\n",
    "\n",
    "sns.scatterplot(data=annual_data, x=annual_data.index, y='station_0', label = 'USU', marker = 'o')\n",
    "plt.xlabel('Date', fontsize = 15)\n",
    "plt.ylabel('Temperature K', fontsize = 15)\n",
    "plt.title('Thermal 1990-1995', fontsize = 18)\n",
    "\n",
    "sns.scatterplot(data=annual_data, x=annual_data.index, y='station_1', label = 'Golf', marker = 'o')\n",
    "\n",
    "date_format = mdates.DateFormatter('%b')  # Format to show month abbreviation\n",
    "plt.gca().xaxis.set_major_formatter(date_format) \n",
    "\n",
    "plt.legend()\n",
    "\n",
    "#plt.savefig('Thermal_annual_plot.png', dpi=300, bbox_inches='tight')"
   ]
  },
  {
   "cell_type": "markdown",
   "id": "f5e164af-0da5-4605-b63f-4b748c7e7b72",
   "metadata": {},
   "source": [
    "#### Plotting the mean for each year"
   ]
  },
  {
   "cell_type": "code",
   "execution_count": 59,
   "id": "dc8ddef5-bed6-4c61-bdb7-741a1e273457",
   "metadata": {},
   "outputs": [],
   "source": [
    "mean_diff = filtered_data.groupby(filtered_data.index.year)['Difference'].mean()"
   ]
  },
  {
   "cell_type": "code",
   "execution_count": 60,
   "id": "a92af6e7-7de5-4fa5-abd4-336f22f5eda7",
   "metadata": {},
   "outputs": [],
   "source": [
    "mean_station_0 = filtered_data.groupby(filtered_data.index.year)['station_0'].mean()"
   ]
  },
  {
   "cell_type": "code",
   "execution_count": 61,
   "id": "fead813c-ac5e-4e6e-abb4-21f1f80c9b48",
   "metadata": {},
   "outputs": [],
   "source": [
    "mean_station_1= filtered_data.groupby(filtered_data.index.year)['station_1'].mean()"
   ]
  },
  {
   "cell_type": "code",
   "execution_count": 62,
   "id": "fb1f7836-acfc-428f-8b46-d9d717864ea4",
   "metadata": {},
   "outputs": [
    {
     "data": {
      "text/plain": [
       "Text(0.5, 1.0, 'Mean Temperature Difference')"
      ]
     },
     "execution_count": 62,
     "metadata": {},
     "output_type": "execute_result"
    },
    {
     "data": {
      "image/png": "[encoded data removed]",
      "text/plain": [
       "<Figure size 720x432 with 1 Axes>"
      ]
     },
     "metadata": {
      "needs_background": "light"
     },
     "output_type": "display_data"
    }
   ],
   "source": [
    "mean_diff.plot(kind='line', figsize=(10, 6), marker = 'o')\n",
    "plt.xlabel('Year', fontsize=15)\n",
    "plt.ylabel('Mean Difference (K)', fontsize=15)\n",
    "plt.title('Mean Temperature Difference', fontsize=18)\n",
    "\n",
    "\n",
    "#plt.savefig('Thermalsummer_meandiff.png', dpi=300, bbox_inches='tight')"
   ]
  },
  {
   "cell_type": "code",
   "execution_count": 63,
   "id": "e6b2a0ff-9623-4f01-8d0b-c775b7a0c906",
   "metadata": {},
   "outputs": [
    {
     "data": {
      "text/plain": [
       "<matplotlib.legend.Legend at 0x7ff128d07a30>"
      ]
     },
     "execution_count": 63,
     "metadata": {},
     "output_type": "execute_result"
    },
    {
     "data": {
      "image/png": "[encoded data removed]",
      "text/plain": [
       "<Figure size 720x432 with 1 Axes>"
      ]
     },
     "metadata": {
      "needs_background": "light"
     },
     "output_type": "display_data"
    }
   ],
   "source": [
    "mean_station_0.plot(kind='line', figsize=(10, 6), marker = 'o', label = 'COOP')\n",
    "plt.xlabel('Year', fontsize=15)\n",
    "plt.ylabel('Mean Difference (K)', fontsize=15)\n",
    "plt.title('Mean Temperature', fontsize=18)\n",
    "\n",
    "mean_station_1.plot(kind='line', figsize=(10, 6), marker = 'o', label = 'Golf')\n",
    "\n",
    "plt.legend()\n",
    "\n",
    "#plt.savefig('Thermalsummer_mean.png', dpi=300, bbox_inches='tight')"
   ]
  },
  {
   "cell_type": "code",
   "execution_count": null,
   "id": "15fb8dd4-0c8c-45bf-9d72-24cb65b1e79d",
   "metadata": {},
   "outputs": [],
   "source": []
  }
 ],
 "metadata": {
  "kernelspec": {
   "display_name": "Python 3 (ipykernel)",
   "language": "python",
   "name": "python3"
  },
  "language_info": {
   "codemirror_mode": {
    "name": "ipython",
    "version": 3
   },
   "file_extension": ".py",
   "mimetype": "text/x-python",
   "name": "python",
   "nbconvert_exporter": "python",
   "pygments_lexer": "ipython3",
   "version": "3.9.7"
  }
 },
 "nbformat": 4,
 "nbformat_minor": 5
}
